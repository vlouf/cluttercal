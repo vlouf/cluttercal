{
 "cells": [
  {
   "cell_type": "code",
   "execution_count": 1,
   "metadata": {
    "ExecuteTime": {
     "end_time": "2020-10-07T01:24:54.380319Z",
     "start_time": "2020-10-07T01:24:52.216651Z"
    }
   },
   "outputs": [],
   "source": [
    "import gc\n",
    "import os\n",
    "import sys\n",
    "import glob\n",
    "import time\n",
    "import zipfile\n",
    "import argparse\n",
    "import datetime\n",
    "import warnings\n",
    "import traceback\n",
    "\n",
    "import crayons\n",
    "import numpy as np\n",
    "import pandas as pd\n",
    "import dask.bag as db\n",
    "\n",
    "import cluttercal\n",
    "from cluttercal.cluttermask import EmptyFieldError"
   ]
  },
  {
   "cell_type": "code",
   "execution_count": 2,
   "metadata": {
    "ExecuteTime": {
     "end_time": "2020-10-07T01:25:03.138930Z",
     "start_time": "2020-10-07T01:25:03.134246Z"
    }
   },
   "outputs": [
    {
     "name": "stderr",
     "output_type": "stream",
     "text": [
      "/home/548/vhl548/.local/miniconda3/envs/radar/lib/python3.8/site-packages/ipykernel/ipkernel.py:287: DeprecationWarning: `should_run_async` will not call `transform_cell` automatically in the future. Please pass the result to `transformed_cell` argument and any exception that happen during thetransform in `preprocessing_exc_tuple` in IPython 7.17 and above.\n",
      "  and should_run_async(code)\n"
     ]
    }
   ],
   "source": [
    "warnings.simplefilter(\"ignore\")"
   ]
  },
  {
   "cell_type": "code",
   "execution_count": 16,
   "metadata": {
    "ExecuteTime": {
     "end_time": "2020-10-07T02:00:58.463488Z",
     "start_time": "2020-10-07T02:00:58.457821Z"
    }
   },
   "outputs": [],
   "source": [
    "def buffer(infile, cmask):\n",
    "    \"\"\"\n",
    "    Buffer function to catch and kill errors.\n",
    "\n",
    "    Parameters:\n",
    "    ===========\n",
    "    infile: str\n",
    "        Input radar file.\n",
    "\n",
    "    Returns:\n",
    "    ========\n",
    "    dtime: np.datetime64\n",
    "        Datetime of infile\n",
    "    rca: float\n",
    "        95th percentile of the clutter reflectivity.\n",
    "    \"\"\"\n",
    "    try:\n",
    "        dtime, rca = cluttercal.extract_clutter(infile, cmask, refl_name=\"total_power\")\n",
    "    except ValueError:\n",
    "        return None\n",
    "    except Exception:\n",
    "        print(infile)\n",
    "        traceback.print_exc()\n",
    "        return None\n",
    "\n",
    "    return dtime, rca"
   ]
  },
  {
   "cell_type": "code",
   "execution_count": 14,
   "metadata": {
    "ExecuteTime": {
     "end_time": "2020-10-07T02:00:15.708868Z",
     "start_time": "2020-10-07T02:00:15.704475Z"
    }
   },
   "outputs": [],
   "source": [
    "def mkdir(path):\n",
    "    \"\"\"\n",
    "    Create the DIRECTORY(ies), if they do not already exist\n",
    "    \"\"\"\n",
    "    try:\n",
    "        os.mkdir(path)\n",
    "    except FileExistsError:\n",
    "        pass\n",
    "\n",
    "    return None"
   ]
  },
  {
   "cell_type": "code",
   "execution_count": 3,
   "metadata": {
    "ExecuteTime": {
     "end_time": "2020-10-07T01:25:42.418909Z",
     "start_time": "2020-10-07T01:25:42.404804Z"
    }
   },
   "outputs": [],
   "source": [
    "def savedata(df, date, path):\n",
    "    \"\"\"\n",
    "    Save the output data into a CSV file compatible with pandas.\n",
    "\n",
    "    Parameters:\n",
    "    ===========\n",
    "    df: pd.Dataframe\n",
    "        RCA timeserie to be saved.\n",
    "    date:\n",
    "        Date of processing.\n",
    "    path: str\n",
    "        Output directory.\n",
    "    \"\"\"\n",
    "    datestr = date.strftime(\"%Y%m%d\")\n",
    "\n",
    "    path = os.path.join(path, \"rca\")\n",
    "    mkdir(path)\n",
    "    path = os.path.join(path, str(RID))\n",
    "    mkdir(path)\n",
    "\n",
    "    outfilename = os.path.join(path, f\"rca.{RID}.{datestr}.csv\")\n",
    "    df.to_csv(outfilename)\n",
    "    print(crayons.green(f\"Found {len(df)} hits for {datestr}.\"))\n",
    "    print(crayons.green(f\"Results saved in {outfilename}.\"))\n",
    "\n",
    "    return None\n",
    "\n",
    "\n",
    "def gen_cmask(radar_file_list, date, file_prefix=None):\n",
    "    \"\"\"\n",
    "    Generate the clutter mask for a given day and save the clutter mask as a\n",
    "    netCDF.\n",
    "\n",
    "    Parameters:\n",
    "    ===========\n",
    "    radar_file_list: list\n",
    "        List radar files for the given date.\n",
    "    date: datetime\n",
    "        Date.\n",
    "\n",
    "    Returns:\n",
    "    ========\n",
    "    outpath: str\n",
    "        Output directory for the clutter masks.\n",
    "    \"\"\"\n",
    "    if file_prefix is None:\n",
    "        file_prefix = f\"{RID}_\"\n",
    "    datestr = date.strftime(\"%Y%m%d\")\n",
    "\n",
    "    outpath = os.path.join(OUTPATH, \"cmasks\")\n",
    "    mkdir(outpath)\n",
    "    outpath = os.path.join(outpath, f\"{RID}\")\n",
    "    mkdir(outpath)\n",
    "    outputfile = os.path.join(outpath, file_prefix + f\"{datestr}.nc\")\n",
    "\n",
    "    if os.path.isfile(outputfile):\n",
    "        print(\"Clutter masks already exists. Doing nothing.\")\n",
    "    else:\n",
    "        try:\n",
    "            cmask = cluttercal.clutter_mask(\n",
    "                radar_file_list,\n",
    "                refl_name=\"total_power\",\n",
    "                refl_threshold=REFL_THLD,\n",
    "                max_range=20e3,\n",
    "                freq_threshold=50,\n",
    "                use_dask=True,\n",
    "            )\n",
    "            if cmask is None:\n",
    "                print(crayons.red(f\"!!! COULD NOT CREATE CLUTTER MAP FOR {date} !!!\"))\n",
    "            else:\n",
    "                cmask.to_netcdf(outputfile)\n",
    "        except Exception:\n",
    "            traceback.print_exc()\n",
    "            pass\n",
    "\n",
    "    return outputfile"
   ]
  },
  {
   "cell_type": "code",
   "execution_count": 8,
   "metadata": {
    "ExecuteTime": {
     "end_time": "2020-10-07T01:58:56.613484Z",
     "start_time": "2020-10-07T01:58:56.607463Z"
    }
   },
   "outputs": [],
   "source": [
    "def get_files(date):\n",
    "    year = str(date.year)\n",
    "    datestr = date.strftime(\"%Y%m%d\")\n",
    "    path = f\"/g/data/hj10/cpol/cpol_level_1b/v2020/ppi/{year}/{datestr}/*.nc\"\n",
    "    flist = sorted(glob.glob(path))\n",
    "    return flist"
   ]
  },
  {
   "cell_type": "code",
   "execution_count": 46,
   "metadata": {
    "ExecuteTime": {
     "end_time": "2020-10-07T02:36:15.244117Z",
     "start_time": "2020-10-07T02:36:15.231377Z"
    }
   },
   "outputs": [],
   "source": [
    "def main(date_range):\n",
    "    \"\"\"\n",
    "    Loop over dates:\n",
    "    1/ Unzip archives.\n",
    "    2/ Generate clutter mask for given date.\n",
    "    3/ Generate composite mask.\n",
    "    4/ Get the 95th percentile of the clutter reflectivity.\n",
    "    5/ Save data for the given date.\n",
    "    6/ Remove unzipped file and go to next iteration.\n",
    "    \"\"\"\n",
    "    prefix = f\"{RID}_\"\n",
    "    for date in date_range:\n",
    "        namelist = get_files(date)\n",
    "        if len(namelist) == 0:\n",
    "            continue\n",
    "\n",
    "        print(crayons.yellow(f\"{len(namelist)} files to process for {date}.\"))\n",
    "\n",
    "        # Generate clutter mask for the given date.\n",
    "        outpath = gen_cmask(namelist, date, file_prefix=prefix)\n",
    "\n",
    "        # Generate composite mask.\n",
    "        try:\n",
    "            cmask = cluttercal.composite_mask(date, timedelta=7, indir=outpath, prefix=prefix)\n",
    "            print(\"Used composite mask\")\n",
    "        except ValueError:\n",
    "            try:\n",
    "                cmask = cluttercal.single_mask(outpath)\n",
    "                print(\"Used single mask\")\n",
    "            except Exception:\n",
    "                continue\n",
    "\n",
    "        # Extract the clutter reflectivity for the given date.\n",
    "        arglist = [(f, cmask) for f in namelist]\n",
    "        bag = db.from_sequence(arglist).starmap(buffer)\n",
    "        rslt = bag.compute()\n",
    "\n",
    "        saved = False\n",
    "        if rslt is not None:\n",
    "            rslt = [r for r in rslt if r is not None]\n",
    "            if len(rslt) != 0:\n",
    "                ttmp, rtmp = zip(*rslt)\n",
    "                rca = np.array(rtmp)\n",
    "                dtime = np.array(ttmp, dtype=\"datetime64\")\n",
    "\n",
    "                if len(rca) != 0:\n",
    "                    df = pd.DataFrame({\"rca\": rca}, index=dtime)\n",
    "                    savedata(df, date, path=OUTPATH)\n",
    "                    saved = True\n",
    "    return None"
   ]
  },
  {
   "cell_type": "code",
   "execution_count": 47,
   "metadata": {
    "ExecuteTime": {
     "end_time": "2020-10-07T02:36:15.745945Z",
     "start_time": "2020-10-07T02:36:15.742164Z"
    }
   },
   "outputs": [],
   "source": [
    "RID = 500\n",
    "ZIPDIR = \"/scratch/kl02/vhl548/unzipdir/\"\n",
    "OUTPATH = \"/scratch/kl02/vhl548/rca_output/\"\n",
    "REFL_NAME = \"total_power\"\n",
    "REFL_THLD = 40"
   ]
  },
  {
   "cell_type": "code",
   "execution_count": 48,
   "metadata": {
    "ExecuteTime": {
     "end_time": "2020-10-07T02:36:20.313640Z",
     "start_time": "2020-10-07T02:36:20.309200Z"
    }
   },
   "outputs": [],
   "source": [
    "date_range = pd.date_range(\"2010-04-01\", \"2010-05-31\")"
   ]
  },
  {
   "cell_type": "code",
   "execution_count": 49,
   "metadata": {
    "ExecuteTime": {
     "end_time": "2020-10-07T02:43:03.659981Z",
     "start_time": "2020-10-07T02:36:20.880125Z"
    },
    "scrolled": false
   },
   "outputs": [
    {
     "name": "stdout",
     "output_type": "stream",
     "text": [
      "143 files to process for 2010-04-01 00:00:00.\n",
      "Used composite mask\n",
      "Found 142 hits for 20100401.\n",
      "Results saved in /scratch/kl02/vhl548/rca_output/rca/500/rca.500.20100401.csv.\n",
      "144 files to process for 2010-04-02 00:00:00.\n",
      "Used composite mask\n",
      "Found 143 hits for 20100402.\n",
      "Results saved in /scratch/kl02/vhl548/rca_output/rca/500/rca.500.20100402.csv.\n",
      "144 files to process for 2010-04-03 00:00:00.\n",
      "Used composite mask\n",
      "Found 144 hits for 20100403.\n",
      "Results saved in /scratch/kl02/vhl548/rca_output/rca/500/rca.500.20100403.csv.\n",
      "144 files to process for 2010-04-04 00:00:00.\n",
      "Used composite mask\n",
      "Found 143 hits for 20100404.\n",
      "Results saved in /scratch/kl02/vhl548/rca_output/rca/500/rca.500.20100404.csv.\n",
      "144 files to process for 2010-04-05 00:00:00.\n",
      "Used composite mask\n",
      "Found 144 hits for 20100405.\n",
      "Results saved in /scratch/kl02/vhl548/rca_output/rca/500/rca.500.20100405.csv.\n",
      "144 files to process for 2010-04-06 00:00:00.\n",
      "Used composite mask\n",
      "Found 143 hits for 20100406.\n",
      "Results saved in /scratch/kl02/vhl548/rca_output/rca/500/rca.500.20100406.csv.\n",
      "143 files to process for 2010-04-07 00:00:00.\n",
      "Used composite mask\n",
      "Found 141 hits for 20100407.\n",
      "Results saved in /scratch/kl02/vhl548/rca_output/rca/500/rca.500.20100407.csv.\n",
      "144 files to process for 2010-04-08 00:00:00.\n",
      "Used composite mask\n",
      "Found 144 hits for 20100408.\n",
      "Results saved in /scratch/kl02/vhl548/rca_output/rca/500/rca.500.20100408.csv.\n",
      "144 files to process for 2010-04-09 00:00:00.\n",
      "Used composite mask\n",
      "Found 143 hits for 20100409.\n",
      "Results saved in /scratch/kl02/vhl548/rca_output/rca/500/rca.500.20100409.csv.\n",
      "144 files to process for 2010-04-10 00:00:00.\n",
      "Used composite mask\n",
      "Found 144 hits for 20100410.\n",
      "Results saved in /scratch/kl02/vhl548/rca_output/rca/500/rca.500.20100410.csv.\n",
      "144 files to process for 2010-04-11 00:00:00.\n",
      "Used composite mask\n",
      "Found 143 hits for 20100411.\n",
      "Results saved in /scratch/kl02/vhl548/rca_output/rca/500/rca.500.20100411.csv.\n",
      "143 files to process for 2010-04-12 00:00:00.\n",
      "Used composite mask\n",
      "Found 143 hits for 20100412.\n",
      "Results saved in /scratch/kl02/vhl548/rca_output/rca/500/rca.500.20100412.csv.\n",
      "142 files to process for 2010-04-13 00:00:00.\n",
      "Used composite mask\n",
      "Found 142 hits for 20100413.\n",
      "Results saved in /scratch/kl02/vhl548/rca_output/rca/500/rca.500.20100413.csv.\n",
      "139 files to process for 2010-04-14 00:00:00.\n",
      "Used composite mask\n",
      "Found 138 hits for 20100414.\n",
      "Results saved in /scratch/kl02/vhl548/rca_output/rca/500/rca.500.20100414.csv.\n",
      "144 files to process for 2010-04-15 00:00:00.\n",
      "Used composite mask\n",
      "Found 143 hits for 20100415.\n",
      "Results saved in /scratch/kl02/vhl548/rca_output/rca/500/rca.500.20100415.csv.\n",
      "141 files to process for 2010-04-16 00:00:00.\n",
      "Used composite mask\n",
      "Found 141 hits for 20100416.\n",
      "Results saved in /scratch/kl02/vhl548/rca_output/rca/500/rca.500.20100416.csv.\n",
      "142 files to process for 2010-04-17 00:00:00.\n",
      "Used composite mask\n",
      "Found 142 hits for 20100417.\n",
      "Results saved in /scratch/kl02/vhl548/rca_output/rca/500/rca.500.20100417.csv.\n",
      "144 files to process for 2010-04-18 00:00:00.\n",
      "Used composite mask\n",
      "Found 144 hits for 20100418.\n",
      "Results saved in /scratch/kl02/vhl548/rca_output/rca/500/rca.500.20100418.csv.\n",
      "144 files to process for 2010-04-19 00:00:00.\n",
      "Used composite mask\n",
      "Found 144 hits for 20100419.\n",
      "Results saved in /scratch/kl02/vhl548/rca_output/rca/500/rca.500.20100419.csv.\n",
      "144 files to process for 2010-04-20 00:00:00.\n",
      "Used composite mask\n",
      "Found 143 hits for 20100420.\n",
      "Results saved in /scratch/kl02/vhl548/rca_output/rca/500/rca.500.20100420.csv.\n",
      "140 files to process for 2010-04-21 00:00:00.\n",
      "Used composite mask\n",
      "Found 139 hits for 20100421.\n",
      "Results saved in /scratch/kl02/vhl548/rca_output/rca/500/rca.500.20100421.csv.\n",
      "130 files to process for 2010-04-22 00:00:00.\n",
      "Used composite mask\n",
      "Found 129 hits for 20100422.\n",
      "Results saved in /scratch/kl02/vhl548/rca_output/rca/500/rca.500.20100422.csv.\n",
      "144 files to process for 2010-04-23 00:00:00.\n",
      "Used composite mask\n",
      "Found 143 hits for 20100423.\n",
      "Results saved in /scratch/kl02/vhl548/rca_output/rca/500/rca.500.20100423.csv.\n",
      "144 files to process for 2010-04-24 00:00:00.\n",
      "Used composite mask\n",
      "Found 144 hits for 20100424.\n",
      "Results saved in /scratch/kl02/vhl548/rca_output/rca/500/rca.500.20100424.csv.\n",
      "144 files to process for 2010-04-25 00:00:00.\n",
      "Used composite mask\n",
      "Found 142 hits for 20100425.\n",
      "Results saved in /scratch/kl02/vhl548/rca_output/rca/500/rca.500.20100425.csv.\n",
      "144 files to process for 2010-04-26 00:00:00.\n",
      "Used composite mask\n",
      "Found 142 hits for 20100426.\n",
      "Results saved in /scratch/kl02/vhl548/rca_output/rca/500/rca.500.20100426.csv.\n",
      "143 files to process for 2010-04-27 00:00:00.\n",
      "Used composite mask\n",
      "Found 142 hits for 20100427.\n",
      "Results saved in /scratch/kl02/vhl548/rca_output/rca/500/rca.500.20100427.csv.\n",
      "142 files to process for 2010-04-28 00:00:00.\n",
      "Used composite mask\n",
      "Found 141 hits for 20100428.\n",
      "Results saved in /scratch/kl02/vhl548/rca_output/rca/500/rca.500.20100428.csv.\n",
      "144 files to process for 2010-04-29 00:00:00.\n",
      "Used composite mask\n",
      "Found 144 hits for 20100429.\n",
      "Results saved in /scratch/kl02/vhl548/rca_output/rca/500/rca.500.20100429.csv.\n",
      "144 files to process for 2010-04-30 00:00:00.\n",
      "Used composite mask\n",
      "Found 142 hits for 20100430.\n",
      "Results saved in /scratch/kl02/vhl548/rca_output/rca/500/rca.500.20100430.csv.\n",
      "144 files to process for 2010-05-01 00:00:00.\n",
      "Used composite mask\n",
      "Found 143 hits for 20100501.\n",
      "Results saved in /scratch/kl02/vhl548/rca_output/rca/500/rca.500.20100501.csv.\n",
      "144 files to process for 2010-05-02 00:00:00.\n",
      "Used composite mask\n",
      "Found 144 hits for 20100502.\n",
      "Results saved in /scratch/kl02/vhl548/rca_output/rca/500/rca.500.20100502.csv.\n",
      "144 files to process for 2010-05-03 00:00:00.\n",
      "Used composite mask\n",
      "Found 141 hits for 20100503.\n",
      "Results saved in /scratch/kl02/vhl548/rca_output/rca/500/rca.500.20100503.csv.\n",
      "143 files to process for 2010-05-04 00:00:00.\n",
      "Used composite mask\n",
      "Found 140 hits for 20100504.\n",
      "Results saved in /scratch/kl02/vhl548/rca_output/rca/500/rca.500.20100504.csv.\n",
      "144 files to process for 2010-05-05 00:00:00.\n",
      "Used composite mask\n",
      "Found 142 hits for 20100505.\n",
      "Results saved in /scratch/kl02/vhl548/rca_output/rca/500/rca.500.20100505.csv.\n",
      "27 files to process for 2010-05-06 00:00:00.\n",
      "Used composite mask\n",
      "Found 27 hits for 20100506.\n",
      "Results saved in /scratch/kl02/vhl548/rca_output/rca/500/rca.500.20100506.csv.\n"
     ]
    }
   ],
   "source": [
    "main(date_range)"
   ]
  },
  {
   "cell_type": "code",
   "execution_count": null,
   "metadata": {},
   "outputs": [],
   "source": []
  }
 ],
 "metadata": {
  "kernelspec": {
   "display_name": "Python 3",
   "language": "python",
   "name": "python3"
  },
  "language_info": {
   "codemirror_mode": {
    "name": "ipython",
    "version": 3
   },
   "file_extension": ".py",
   "mimetype": "text/x-python",
   "name": "python",
   "nbconvert_exporter": "python",
   "pygments_lexer": "ipython3",
   "version": "3.8.5"
  },
  "varInspector": {
   "cols": {
    "lenName": 16,
    "lenType": 16,
    "lenVar": 40
   },
   "kernels_config": {
    "python": {
     "delete_cmd_postfix": "",
     "delete_cmd_prefix": "del ",
     "library": "var_list.py",
     "varRefreshCmd": "print(var_dic_list())"
    },
    "r": {
     "delete_cmd_postfix": ") ",
     "delete_cmd_prefix": "rm(",
     "library": "var_list.r",
     "varRefreshCmd": "cat(var_dic_list()) "
    }
   },
   "types_to_exclude": [
    "module",
    "function",
    "builtin_function_or_method",
    "instance",
    "_Feature"
   ],
   "window_display": false
  }
 },
 "nbformat": 4,
 "nbformat_minor": 4
}
